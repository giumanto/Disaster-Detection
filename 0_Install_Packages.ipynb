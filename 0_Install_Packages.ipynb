{
 "cells": [
  {
   "cell_type": "markdown",
   "metadata": {},
   "source": [
    "### Install packages"
   ]
  },
  {
   "cell_type": "code",
   "execution_count": 4,
   "metadata": {
    "collapsed": true,
    "jupyter": {
     "outputs_hidden": true
    }
   },
   "outputs": [
    {
     "name": "stdout",
     "output_type": "stream",
     "text": [
      "Collecting git+https://github.com/huggingface/transformers\n",
      "  Cloning https://github.com/huggingface/transformers to /private/var/folders/dl/s7l2w0_n5w79b_ycqfz20vg40000gn/T/pip-req-build-t8xsdpmw\n",
      "  Running command git clone -q https://github.com/huggingface/transformers /private/var/folders/dl/s7l2w0_n5w79b_ycqfz20vg40000gn/T/pip-req-build-t8xsdpmw\n",
      "Requirement already satisfied (use --upgrade to upgrade): transformers==2.10.0 from git+https://github.com/huggingface/transformers in /Users/giacomomiolo/opt/anaconda3/lib/python3.7/site-packages\n",
      "Requirement already satisfied: numpy in /Users/giacomomiolo/opt/anaconda3/lib/python3.7/site-packages (from transformers==2.10.0) (1.17.2)\n",
      "Requirement already satisfied: tokenizers==0.7.0 in /Users/giacomomiolo/opt/anaconda3/lib/python3.7/site-packages (from transformers==2.10.0) (0.7.0)\n",
      "Requirement already satisfied: packaging in /Users/giacomomiolo/opt/anaconda3/lib/python3.7/site-packages (from transformers==2.10.0) (20.3)\n",
      "Requirement already satisfied: filelock in /Users/giacomomiolo/opt/anaconda3/lib/python3.7/site-packages (from transformers==2.10.0) (3.0.12)\n",
      "Requirement already satisfied: requests in /Users/giacomomiolo/opt/anaconda3/lib/python3.7/site-packages (from transformers==2.10.0) (2.23.0)\n",
      "Requirement already satisfied: tqdm>=4.27 in /Users/giacomomiolo/opt/anaconda3/lib/python3.7/site-packages (from transformers==2.10.0) (4.46.0)\n",
      "Requirement already satisfied: regex!=2019.12.17 in /Users/giacomomiolo/opt/anaconda3/lib/python3.7/site-packages (from transformers==2.10.0) (2020.5.14)\n",
      "Requirement already satisfied: sentencepiece in /Users/giacomomiolo/opt/anaconda3/lib/python3.7/site-packages (from transformers==2.10.0) (0.1.91)\n",
      "Requirement already satisfied: sacremoses in /Users/giacomomiolo/opt/anaconda3/lib/python3.7/site-packages (from transformers==2.10.0) (0.0.43)\n",
      "Requirement already satisfied: six in /Users/giacomomiolo/opt/anaconda3/lib/python3.7/site-packages (from packaging->transformers==2.10.0) (1.14.0)\n",
      "Requirement already satisfied: pyparsing>=2.0.2 in /Users/giacomomiolo/opt/anaconda3/lib/python3.7/site-packages (from packaging->transformers==2.10.0) (2.4.7)\n",
      "Requirement already satisfied: chardet<4,>=3.0.2 in /Users/giacomomiolo/opt/anaconda3/lib/python3.7/site-packages (from requests->transformers==2.10.0) (3.0.4)\n",
      "Requirement already satisfied: idna<3,>=2.5 in /Users/giacomomiolo/opt/anaconda3/lib/python3.7/site-packages (from requests->transformers==2.10.0) (2.9)\n",
      "Requirement already satisfied: urllib3!=1.25.0,!=1.25.1,<1.26,>=1.21.1 in /Users/giacomomiolo/opt/anaconda3/lib/python3.7/site-packages (from requests->transformers==2.10.0) (1.25.8)\n",
      "Requirement already satisfied: certifi>=2017.4.17 in /Users/giacomomiolo/opt/anaconda3/lib/python3.7/site-packages (from requests->transformers==2.10.0) (2020.4.5.1)\n",
      "Requirement already satisfied: click in /Users/giacomomiolo/opt/anaconda3/lib/python3.7/site-packages (from sacremoses->transformers==2.10.0) (7.1.2)\n",
      "Requirement already satisfied: joblib in /Users/giacomomiolo/opt/anaconda3/lib/python3.7/site-packages (from sacremoses->transformers==2.10.0) (0.15.1)\n",
      "Building wheels for collected packages: transformers\n",
      "  Building wheel for transformers (setup.py) ... \u001b[?25ldone\n",
      "\u001b[?25h  Created wheel for transformers: filename=transformers-2.10.0-py3-none-any.whl size=665673 sha256=97b7bfb6c89f50293cca100bcaef59513efe8703c770b6e385d072b31dc55859\n",
      "  Stored in directory: /private/var/folders/dl/s7l2w0_n5w79b_ycqfz20vg40000gn/T/pip-ephem-wheel-cache-26kka6iy/wheels/35/2e/a7/d819e3310040329f0f47e57c9e3e7a7338aa5e74c49acfe522\n",
      "Successfully built transformers\n"
     ]
    }
   ],
   "source": [
    "!pip install git+https://github.com/huggingface/transformers"
   ]
  },
  {
   "cell_type": "code",
   "execution_count": 5,
   "metadata": {
    "collapsed": true,
    "jupyter": {
     "outputs_hidden": true
    }
   },
   "outputs": [
    {
     "name": "stdout",
     "output_type": "stream",
     "text": [
      "Cloning into 'transformers'...\n",
      "remote: Enumerating objects: 51, done.\u001b[K\n",
      "remote: Counting objects: 100% (51/51), done.\u001b[K\n",
      "remote: Compressing objects: 100% (46/46), done.\u001b[K\n",
      "remote: Total 27992 (delta 22), reused 18 (delta 0), pack-reused 27941\u001b[K\n",
      "Receiving objects: 100% (27992/27992), 25.52 MiB | 4.61 MiB/s, done.\n",
      "Resolving deltas: 100% (19439/19439), done.\n"
     ]
    }
   ],
   "source": [
    "!git clone https://github.com/huggingface/transformers!python transformers/utils/download_glue_data.py"
   ]
  },
  {
   "cell_type": "code",
   "execution_count": 6,
   "metadata": {
    "collapsed": true,
    "jupyter": {
     "outputs_hidden": true
    }
   },
   "outputs": [
    {
     "name": "stdout",
     "output_type": "stream",
     "text": [
      "Downloading and extracting CoLA...\n",
      "\tCompleted!\n",
      "Downloading and extracting SST...\n",
      "\tCompleted!\n",
      "Processing MRPC...\n",
      "Local MRPC data not specified, downloading data from https://dl.fbaipublicfiles.com/senteval/senteval_data/msr_paraphrase_train.txt\n",
      "\tCompleted!\n",
      "Downloading and extracting QQP...\n",
      "\tCompleted!\n",
      "Downloading and extracting STS...\n",
      "\tCompleted!\n",
      "Downloading and extracting MNLI...\n",
      "\tCompleted!\n",
      "Downloading and extracting SNLI...\n",
      "\tCompleted!\n",
      "Downloading and extracting QNLI...\n",
      "\tCompleted!\n",
      "Downloading and extracting RTE...\n",
      "\tCompleted!\n",
      "Downloading and extracting WNLI...\n",
      "\tCompleted!\n",
      "Downloading and extracting diagnostic...\n",
      "\tCompleted!\n"
     ]
    }
   ],
   "source": [
    "!python transformers/utils/download_glue_data.py"
   ]
  },
  {
   "cell_type": "code",
   "execution_count": 12,
   "metadata": {
    "collapsed": true,
    "jupyter": {
     "outputs_hidden": true
    }
   },
   "outputs": [
    {
     "name": "stdout",
     "output_type": "stream",
     "text": [
      "Collecting torch\n",
      "  Downloading torch-1.5.0-cp37-none-macosx_10_9_x86_64.whl (80.5 MB)\n",
      "\u001b[K     |████████████████████████████████| 80.5 MB 3.9 MB/s eta 0:00:01     |██████▉                         | 17.1 MB 3.9 MB/s eta 0:00:17     |████████████████▍               | 41.3 MB 3.8 MB/s eta 0:00:11     |███████████████████████▊        | 59.8 MB 3.7 MB/s eta 0:00:06\n",
      "\u001b[?25hRequirement already satisfied: future in /Users/giacomomiolo/opt/anaconda3/lib/python3.7/site-packages (from torch) (0.18.2)\n",
      "Requirement already satisfied: numpy in /Users/giacomomiolo/opt/anaconda3/lib/python3.7/site-packages (from torch) (1.17.2)\n",
      "Installing collected packages: torch\n",
      "Successfully installed torch-1.5.0\n"
     ]
    }
   ],
   "source": [
    "!pip install torch"
   ]
  },
  {
   "cell_type": "code",
   "execution_count": 561,
   "metadata": {
    "collapsed": true,
    "jupyter": {
     "outputs_hidden": true
    }
   },
   "outputs": [
    {
     "name": "stdout",
     "output_type": "stream",
     "text": [
      "Collecting twint\n",
      "  Downloading twint-2.1.20.tar.gz (31 kB)\n",
      "Collecting aiohttp\n",
      "  Downloading aiohttp-3.6.2-cp37-cp37m-win_amd64.whl (649 kB)\n",
      "Collecting aiodns\n",
      "  Downloading aiodns-2.0.0-py2.py3-none-any.whl (4.8 kB)\n",
      "Requirement already satisfied: beautifulsoup4 in c:\\users\\giuma\\anaconda3\\lib\\site-packages (from twint) (4.8.2)\n",
      "Collecting cchardet\n",
      "  Downloading cchardet-2.1.6-cp37-cp37m-win_amd64.whl (115 kB)\n",
      "Collecting elasticsearch\n",
      "  Downloading elasticsearch-7.7.1-py2.py3-none-any.whl (99 kB)\n",
      "Requirement already satisfied: pysocks in c:\\users\\giuma\\anaconda3\\lib\\site-packages (from twint) (1.7.1)\n",
      "Requirement already satisfied: pandas in c:\\users\\giuma\\anaconda3\\lib\\site-packages (from twint) (1.0.3)\n",
      "Collecting aiohttp_socks\n",
      "  Downloading aiohttp_socks-0.3.9-py3-none-any.whl (17 kB)\n",
      "Collecting schedule\n",
      "  Downloading schedule-0.6.0-py2.py3-none-any.whl (8.7 kB)\n",
      "Requirement already satisfied: geopy in c:\\users\\giuma\\anaconda3\\lib\\site-packages (from twint) (1.21.0)\n",
      "Collecting fake-useragent\n",
      "  Downloading fake-useragent-0.1.11.tar.gz (13 kB)\n",
      "Collecting googletransx\n",
      "  Downloading googletransx-2.4.2.tar.gz (13 kB)\n",
      "Collecting async-timeout<4.0,>=3.0\n",
      "  Downloading async_timeout-3.0.1-py3-none-any.whl (8.2 kB)\n",
      "Requirement already satisfied: chardet<4.0,>=2.0 in c:\\users\\giuma\\anaconda3\\lib\\site-packages (from aiohttp->twint) (3.0.4)\n",
      "Collecting multidict<5.0,>=4.5\n",
      "  Downloading multidict-4.7.6-cp37-cp37m-win_amd64.whl (48 kB)\n",
      "Requirement already satisfied: attrs>=17.3.0 in c:\\users\\giuma\\anaconda3\\lib\\site-packages (from aiohttp->twint) (19.3.0)\n",
      "Collecting yarl<2.0,>=1.0\n",
      "  Downloading yarl-1.4.2-cp37-cp37m-win_amd64.whl (125 kB)\n",
      "Collecting pycares>=3.0.0\n",
      "  Downloading pycares-3.1.1-cp37-cp37m-win_amd64.whl (70 kB)\n",
      "Requirement already satisfied: soupsieve>=1.2 in c:\\users\\giuma\\anaconda3\\lib\\site-packages (from beautifulsoup4->twint) (1.9.5)\n",
      "Requirement already satisfied: urllib3>=1.21.1 in c:\\users\\giuma\\anaconda3\\lib\\site-packages (from elasticsearch->twint) (1.24.3)\n",
      "Requirement already satisfied: certifi in c:\\users\\giuma\\anaconda3\\lib\\site-packages (from elasticsearch->twint) (2019.11.28)\n",
      "Requirement already satisfied: pytz>=2017.2 in c:\\users\\giuma\\anaconda3\\lib\\site-packages (from pandas->twint) (2019.3)\n",
      "Requirement already satisfied: python-dateutil>=2.6.1 in c:\\users\\giuma\\anaconda3\\lib\\site-packages (from pandas->twint) (2.8.1)\n",
      "Requirement already satisfied: numpy>=1.13.3 in c:\\users\\giuma\\anaconda3\\lib\\site-packages (from pandas->twint) (1.18.1)\n",
      "Requirement already satisfied: geographiclib<2,>=1.49 in c:\\users\\giuma\\anaconda3\\lib\\site-packages (from geopy->twint) (1.50)\n",
      "Requirement already satisfied: requests in c:\\users\\giuma\\anaconda3\\lib\\site-packages (from googletransx->twint) (2.22.0)\n",
      "Requirement already satisfied: idna>=2.0 in c:\\users\\giuma\\anaconda3\\lib\\site-packages (from yarl<2.0,>=1.0->aiohttp->twint) (2.8)\n",
      "Requirement already satisfied: cffi>=1.5.0 in c:\\users\\giuma\\anaconda3\\lib\\site-packages (from pycares>=3.0.0->aiodns->twint) (1.14.0)\n",
      "Requirement already satisfied: six>=1.5 in c:\\users\\giuma\\anaconda3\\lib\\site-packages (from python-dateutil>=2.6.1->pandas->twint) (1.14.0)\n",
      "Requirement already satisfied: pycparser in c:\\users\\giuma\\anaconda3\\lib\\site-packages (from cffi>=1.5.0->pycares>=3.0.0->aiodns->twint) (2.19)\n",
      "Building wheels for collected packages: twint, fake-useragent, googletransx\n",
      "  Building wheel for twint (setup.py): started\n",
      "  Building wheel for twint (setup.py): finished with status 'done'\n",
      "  Created wheel for twint: filename=twint-2.1.20-py3-none-any.whl size=33926 sha256=b361d8ee7de2a560d83aea6fc4a3350b26af4e9c88c6e32ba6245c2de5eb065b\n",
      "  Stored in directory: c:\\users\\giuma\\appdata\\local\\pip\\cache\\wheels\\44\\fc\\77\\99887a36b5c265a87516158858697d1a0b8f32c4d4dbddbb24\n",
      "  Building wheel for fake-useragent (setup.py): started\n",
      "  Building wheel for fake-useragent (setup.py): finished with status 'done'\n",
      "  Created wheel for fake-useragent: filename=fake_useragent-0.1.11-py3-none-any.whl size=13489 sha256=fea145cef454d2f15b48dbdf0584df6e42237a651880ec957eaaa012200840ad\n",
      "  Stored in directory: c:\\users\\giuma\\appdata\\local\\pip\\cache\\wheels\\ed\\f7\\62\\50ab6c9a0b5567267ab76a9daa9d06315704209b2c5d032031\n",
      "  Building wheel for googletransx (setup.py): started\n",
      "  Building wheel for googletransx (setup.py): finished with status 'done'\n",
      "  Created wheel for googletransx: filename=googletransx-2.4.2-py3-none-any.whl size=15975 sha256=ede4a57cc2d25e98a7a6b69e1f4de7de0c88a805d67472914b785e95819ed6a3\n",
      "  Stored in directory: c:\\users\\giuma\\appdata\\local\\pip\\cache\\wheels\\66\\d5\\b1\\31104b338f7fd45aa8f7d22587765db06773b13df48a89735f\n",
      "Successfully built twint fake-useragent googletransx\n",
      "Installing collected packages: async-timeout, multidict, yarl, aiohttp, pycares, aiodns, cchardet, elasticsearch, aiohttp-socks, schedule, fake-useragent, googletransx, twint\n",
      "Successfully installed aiodns-2.0.0 aiohttp-3.6.2 aiohttp-socks-0.3.9 async-timeout-3.0.1 cchardet-2.1.6 elasticsearch-7.7.1 fake-useragent-0.1.11 googletransx-2.4.2 multidict-4.7.6 pycares-3.1.1 schedule-0.6.0 twint-2.1.20 yarl-1.4.2\n",
      "Note: you may need to restart the kernel to use updated packages.\n"
     ]
    }
   ],
   "source": [
    "!pip install twint"
   ]
  },
  {
   "cell_type": "code",
   "execution_count": 563,
   "metadata": {
    "collapsed": true,
    "jupyter": {
     "outputs_hidden": true
    }
   },
   "outputs": [
    {
     "name": "stdout",
     "output_type": "stream",
     "text": [
      "Collecting nest_asyncio\n",
      "  Downloading nest_asyncio-1.3.3-py3-none-any.whl (4.7 kB)\n",
      "Installing collected packages: nest-asyncio\n",
      "Successfully installed nest-asyncio-1.3.3\n",
      "Note: you may need to restart the kernel to use updated packages.\n"
     ]
    }
   ],
   "source": [
    "!pip install nest_asyncio"
   ]
  }
 ],
 "metadata": {
  "kernelspec": {
   "display_name": "Python 3",
   "language": "python",
   "name": "python3"
  },
  "language_info": {
   "codemirror_mode": {
    "name": "ipython",
    "version": 3
   },
   "file_extension": ".py",
   "mimetype": "text/x-python",
   "name": "python",
   "nbconvert_exporter": "python",
   "pygments_lexer": "ipython3",
   "version": "3.7.6"
  }
 },
 "nbformat": 4,
 "nbformat_minor": 4
}